{
 "cells": [
  {
   "cell_type": "code",
   "execution_count": 6,
   "id": "5d4bf707-3d5b-4e85-bf49-5d8c409d2074",
   "metadata": {},
   "outputs": [
    {
     "name": "stdout",
     "output_type": "stream",
     "text": [
      "10.0\n"
     ]
    }
   ],
   "source": [
    "#Convert a integer to a floatig-poit number.\n",
    "\n",
    "num = 10\n",
    "\n",
    "floting = float(num)\n",
    "\n",
    "print(floting)"
   ]
  },
  {
   "cell_type": "code",
   "execution_count": 7,
   "id": "51c7568c-ccb3-4d45-bf1d-08aa9e0bafb4",
   "metadata": {},
   "outputs": [
    {
     "name": "stdout",
     "output_type": "stream",
     "text": [
      "15\n"
     ]
    }
   ],
   "source": [
    "#Convert a float to a integer.\n",
    "\n",
    "num =15\n",
    "\n",
    "integer = int(num)\n",
    "\n",
    "print(integer)"
   ]
  },
  {
   "cell_type": "code",
   "execution_count": 8,
   "id": "b6475753-894f-4187-bc3b-015d72e86f06",
   "metadata": {},
   "outputs": [
    {
     "name": "stdout",
     "output_type": "stream",
     "text": [
      "16\n"
     ]
    }
   ],
   "source": [
    "#3 Convert a integer to a strig.\n",
    "\n",
    "num = 16\n",
    "\n",
    "string = str(num)\n",
    "\n",
    "print(string)"
   ]
  },
  {
   "cell_type": "code",
   "execution_count": 10,
   "id": "a05d3e90-15a5-4fb9-af92-8ad901be21e4",
   "metadata": {},
   "outputs": [
    {
     "name": "stdout",
     "output_type": "stream",
     "text": [
      "('naren', '21', 'hyd')\n"
     ]
    }
   ],
   "source": [
    "#Convert a list to a tuple.\n",
    "\n",
    "list_name = ['naren',21,'hyd']\n",
    "tupple_name = tuple(list_name)\n",
    "print(tupple_list)"
   ]
  },
  {
   "cell_type": "code",
   "execution_count": 11,
   "id": "11b63338-a1f4-4139-b1e4-9c8f55610318",
   "metadata": {},
   "outputs": [
    {
     "name": "stdout",
     "output_type": "stream",
     "text": [
      "['naren', 21, 'hyd']\n"
     ]
    }
   ],
   "source": [
    "\n",
    " #Covert a tuple to a list.\n",
    "\n",
    "tuple_name = ('naren',21,'hyd')\n",
    "list_name = list(tuple_name)\n",
    "print(list_name)"
   ]
  },
  {
   "cell_type": "code",
   "execution_count": null,
   "id": "8f1ad794-1ca6-4702-a9ee-bbc0453de466",
   "metadata": {},
   "outputs": [],
   "source": []
  },
  {
   "cell_type": "code",
   "execution_count": 20,
   "id": "a65c1b5b-ca28-46e5-9f93-b9eb77eac4f9",
   "metadata": {},
   "outputs": [
    {
     "name": "stdin",
     "output_type": "stream",
     "text": [
      "enter a number 16\n"
     ]
    }
   ],
   "source": [
    "#Convert a decimal number to binary.\n",
    "\n",
    "number = int(input(\"enter a number\"))\n",
    "binary_number = bin(number)\n",
    "print = (binary_number)"
   ]
